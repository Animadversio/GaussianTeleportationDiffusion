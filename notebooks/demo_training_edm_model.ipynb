{
 "cells": [
  {
   "cell_type": "code",
   "execution_count": 1,
   "metadata": {},
   "outputs": [],
   "source": [
    "import os \n",
    "import sys\n",
    "sys.path.append('../')\n",
    "import torchvision\n",
    "from gaussian_teleport.edm.dataset import ImageFolderDataset\n",
    "from gaussian_teleport.edm.networks_edm import SongUNet\n",
    "from gaussian_teleport.edm.train_edm import create_model, EDM, train_edm_model\n",
    "from gaussian_teleport.edm_utils import get_default_config"
   ]
  },
  {
   "cell_type": "code",
   "execution_count": 2,
   "metadata": {},
   "outputs": [],
   "source": [
    "config = get_default_config(\"mnist\")\n",
    "unet = create_model(config)\n",
    "edm = EDM(model=unet, cfg=config)\n",
    "edm.model.train();"
   ]
  },
  {
   "cell_type": "code",
   "execution_count": 3,
   "metadata": {},
   "outputs": [
    {
     "data": {
      "text/plain": [
       "{'DATASET': 'mnist',\n",
       " 'channel_mult': [1, 2, 3, 4],\n",
       " 'model_channels': 16,\n",
       " 'attn_resolutions': [0],\n",
       " 'layers_per_block': 1,\n",
       " 'num_fid_sample': 5000,\n",
       " 'fid_batch_size': 1024,\n",
       " 'channels': 1,\n",
       " 'img_size': 32,\n",
       " 'device': 'cuda',\n",
       " 'sigma_min': 0.002,\n",
       " 'sigma_max': 80.0,\n",
       " 'rho': 7.0,\n",
       " 'sigma_data': 0.5,\n",
       " 'spatial_matching': 'padding'}"
      ]
     },
     "execution_count": 3,
     "metadata": {},
     "output_type": "execute_result"
    }
   ],
   "source": [
    "config"
   ]
  },
  {
   "cell_type": "code",
   "execution_count": null,
   "metadata": {},
   "outputs": [],
   "source": [
    "img_dataset = torchvision.datasets.MNIST(root='datasets/mnist', download=True, train=True,\n",
    "                                    transform=torchvision.transforms.Compose(\n",
    "                                        [torchvision.transforms.Resize(config.img_size),\n",
    "                                            torchvision.transforms.ToTensor(),\n",
    "                                            torchvision.transforms.Normalize((0.5,), (0.5,))]\n",
    "                                    ),)"
   ]
  },
  {
   "cell_type": "code",
   "execution_count": null,
   "metadata": {},
   "outputs": [],
   "source": [
    "outdir = f\"exps/MNIST_temp\"\n",
    "sample_dir = f\"{outdir}/samples\"\n",
    "ckpt_dir = f\"{outdir}/checkpoints\"\n",
    "config.outdir = outdir\n",
    "config.sample_dir = sample_dir\n",
    "config.ckpt_dir = ckpt_dir\n",
    "for dir in [outdir, sample_dir, ckpt_dir]:\n",
    "    os.makedirs(dir, exist_ok=True)\n",
    "\n",
    "config.train_batch_size = 512\n",
    "config.num_steps = 20000\n",
    "config.learning_rate = 2e-4\n",
    "config.train_progress_bar = True\n",
    "config.total_steps = 18\n",
    "config.save_images_step = 100\n",
    "config.eval_batch_size = 64\n",
    "config.accumulation_steps = 1\n",
    "config.gt_guide_type = 'l2'\n",
    "config.warmup = 1000\n",
    "config.log_step = 100\n",
    "config.save_model_iters = 5000\n",
    "\n",
    "# around 1000 steps you could see some digits. \n",
    "train_edm_model(config, unet, img_dataset, device=\"cpu\")"
   ]
  },
  {
   "cell_type": "code",
   "execution_count": null,
   "metadata": {},
   "outputs": [],
   "source": []
  }
 ],
 "metadata": {
  "kernelspec": {
   "display_name": "torch",
   "language": "python",
   "name": "python3"
  },
  "language_info": {
   "codemirror_mode": {
    "name": "ipython",
    "version": 3
   },
   "file_extension": ".py",
   "mimetype": "text/x-python",
   "name": "python",
   "nbconvert_exporter": "python",
   "pygments_lexer": "ipython3",
   "version": "3.11.6"
  }
 },
 "nbformat": 4,
 "nbformat_minor": 2
}
